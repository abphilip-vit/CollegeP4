{
  "nbformat": 4,
  "nbformat_minor": 0,
  "metadata": {
    "colab": {
      "name": "6. Twitter.ipynb",
      "provenance": [],
      "collapsed_sections": [],
      "mount_file_id": "1MpxPy5rSp-cASZOpimklWwUt5z2yUIHl",
      "authorship_tag": "ABX9TyNzx9GAf1AQpzb0EGw3QfAL",
      "include_colab_link": true
    },
    "kernelspec": {
      "name": "python3",
      "display_name": "Python 3"
    }
  },
  "cells": [
    {
      "cell_type": "markdown",
      "metadata": {
        "id": "view-in-github",
        "colab_type": "text"
      },
      "source": [
        "<a href=\"https://colab.research.google.com/github/allenalvin333/College4/blob/master/Project/R3.ipynb\" target=\"_parent\"><img src=\"https://colab.research.google.com/assets/colab-badge.svg\" alt=\"Open In Colab\"/></a>"
      ]
    },
    {
      "cell_type": "markdown",
      "metadata": {
        "id": "sMOqtQRZXf-S"
      },
      "source": [
        "# **Allen Ben Philipose (18BIS0043)**\n",
        "# CSE4022 - Racism, before and after George Floyd\n"
      ]
    },
    {
      "cell_type": "markdown",
      "metadata": {
        "id": "7nlAe4KV8UJz"
      },
      "source": [
        "## Install"
      ]
    },
    {
      "cell_type": "code",
      "metadata": {
        "id": "QXKRdn0X8V1M",
        "outputId": "884adcf1-7680-464b-8203-a974f02e4ae5",
        "colab": {
          "base_uri": "https://localhost:8080/"
        }
      },
      "source": [
        "pip install preprocessor"
      ],
      "execution_count": 1,
      "outputs": [
        {
          "output_type": "stream",
          "text": [
            "Collecting preprocessor\n",
            "  Downloading https://files.pythonhosted.org/packages/96/ad/d9f4ffb9bb97d1cb5bcb876b7932571d4dbaa3eff1701ad45d367f0ea27b/preprocessor-1.1.3.tar.gz\n",
            "Building wheels for collected packages: preprocessor\n",
            "  Building wheel for preprocessor (setup.py) ... \u001b[?25l\u001b[?25hdone\n",
            "  Created wheel for preprocessor: filename=preprocessor-1.1.3-cp36-none-any.whl size=4477 sha256=f49d7e32397f78c4bf831a43fc1d9914163eb2f599308cfb75702d72355d2e6c\n",
            "  Stored in directory: /root/.cache/pip/wheels/98/c1/a2/21fbcfd80d76576bbf148991a66f00730f541f265c7600000f\n",
            "Successfully built preprocessor\n",
            "Installing collected packages: preprocessor\n",
            "Successfully installed preprocessor-1.1.3\n"
          ],
          "name": "stdout"
        }
      ]
    },
    {
      "cell_type": "code",
      "metadata": {
        "id": "EdZ7lWsW8Yv8",
        "outputId": "7f4f306a-c29f-4cfb-f667-9fc7c57aff8d",
        "colab": {
          "base_uri": "https://localhost:8080/"
        }
      },
      "source": [
        "pip install nltk"
      ],
      "execution_count": 2,
      "outputs": [
        {
          "output_type": "stream",
          "text": [
            "Requirement already satisfied: nltk in /usr/local/lib/python3.6/dist-packages (3.2.5)\n",
            "Requirement already satisfied: six in /usr/local/lib/python3.6/dist-packages (from nltk) (1.15.0)\n"
          ],
          "name": "stdout"
        }
      ]
    },
    {
      "cell_type": "code",
      "metadata": {
        "id": "vbPipJcJPJv2",
        "outputId": "bd961c6d-9d58-434f-9b36-5c5e81491468",
        "colab": {
          "base_uri": "https://localhost:8080/"
        }
      },
      "source": [
        "pip install plotly=='4.11.0'"
      ],
      "execution_count": 3,
      "outputs": [
        {
          "output_type": "stream",
          "text": [
            "Collecting plotly==4.11.0\n",
            "\u001b[?25l  Downloading https://files.pythonhosted.org/packages/68/47/cec583df9ffb6142b84698c1be2124ef8f786f1e9a4307fae331377ccddc/plotly-4.11.0-py2.py3-none-any.whl (13.1MB)\n",
            "\u001b[K     |████████████████████████████████| 13.1MB 325kB/s \n",
            "\u001b[?25hRequirement already satisfied: retrying>=1.3.3 in /usr/local/lib/python3.6/dist-packages (from plotly==4.11.0) (1.3.3)\n",
            "Requirement already satisfied: six in /usr/local/lib/python3.6/dist-packages (from plotly==4.11.0) (1.15.0)\n",
            "Installing collected packages: plotly\n",
            "  Found existing installation: plotly 4.4.1\n",
            "    Uninstalling plotly-4.4.1:\n",
            "      Successfully uninstalled plotly-4.4.1\n",
            "Successfully installed plotly-4.11.0\n"
          ],
          "name": "stdout"
        }
      ]
    },
    {
      "cell_type": "code",
      "metadata": {
        "id": "2yeQ-PVfP47R",
        "outputId": "6e48f11e-ed61-41e8-f865-9850458eca20",
        "colab": {
          "base_uri": "https://localhost:8080/"
        }
      },
      "source": [
        "pip install chart-studio"
      ],
      "execution_count": 4,
      "outputs": [
        {
          "output_type": "stream",
          "text": [
            "Collecting chart-studio\n",
            "\u001b[?25l  Downloading https://files.pythonhosted.org/packages/ca/ce/330794a6b6ca4b9182c38fc69dd2a9cbff60fd49421cb8648ee5fee352dc/chart_studio-1.1.0-py3-none-any.whl (64kB)\n",
            "\r\u001b[K     |█████                           | 10kB 10.1MB/s eta 0:00:01\r\u001b[K     |██████████▏                     | 20kB 1.5MB/s eta 0:00:01\r\u001b[K     |███████████████▎                | 30kB 2.0MB/s eta 0:00:01\r\u001b[K     |████████████████████▍           | 40kB 2.3MB/s eta 0:00:01\r\u001b[K     |█████████████████████████▍      | 51kB 2.0MB/s eta 0:00:01\r\u001b[K     |██████████████████████████████▌ | 61kB 2.3MB/s eta 0:00:01\r\u001b[K     |████████████████████████████████| 71kB 2.0MB/s \n",
            "\u001b[?25hRequirement already satisfied: plotly in /usr/local/lib/python3.6/dist-packages (from chart-studio) (4.11.0)\n",
            "Requirement already satisfied: requests in /usr/local/lib/python3.6/dist-packages (from chart-studio) (2.23.0)\n",
            "Requirement already satisfied: six in /usr/local/lib/python3.6/dist-packages (from chart-studio) (1.15.0)\n",
            "Requirement already satisfied: retrying>=1.3.3 in /usr/local/lib/python3.6/dist-packages (from chart-studio) (1.3.3)\n",
            "Requirement already satisfied: certifi>=2017.4.17 in /usr/local/lib/python3.6/dist-packages (from requests->chart-studio) (2020.6.20)\n",
            "Requirement already satisfied: idna<3,>=2.5 in /usr/local/lib/python3.6/dist-packages (from requests->chart-studio) (2.10)\n",
            "Requirement already satisfied: chardet<4,>=3.0.2 in /usr/local/lib/python3.6/dist-packages (from requests->chart-studio) (3.0.4)\n",
            "Requirement already satisfied: urllib3!=1.25.0,!=1.25.1,<1.26,>=1.21.1 in /usr/local/lib/python3.6/dist-packages (from requests->chart-studio) (1.24.3)\n",
            "Installing collected packages: chart-studio\n",
            "Successfully installed chart-studio-1.1.0\n"
          ],
          "name": "stdout"
        }
      ]
    },
    {
      "cell_type": "markdown",
      "metadata": {
        "id": "VwObt9GNXryA"
      },
      "source": [
        "## Initialize"
      ]
    },
    {
      "cell_type": "markdown",
      "metadata": {
        "id": "gON6VI-WYjy1"
      },
      "source": [
        "### Setup Google Drive"
      ]
    },
    {
      "cell_type": "code",
      "metadata": {
        "id": "7sJ16cnsYmEP",
        "outputId": "08998b16-aa28-43eb-acf6-f1d0f06aeb80",
        "colab": {
          "base_uri": "https://localhost:8080/"
        }
      },
      "source": [
        "from google.colab import drive\n",
        "drive.mount('/content/gdrive')  "
      ],
      "execution_count": 6,
      "outputs": [
        {
          "output_type": "stream",
          "text": [
            "Mounted at /content/gdrive\n"
          ],
          "name": "stdout"
        }
      ]
    },
    {
      "cell_type": "markdown",
      "metadata": {
        "id": "sdAiRR2q3ls8"
      },
      "source": [
        "### Import Libraries"
      ]
    },
    {
      "cell_type": "code",
      "metadata": {
        "id": "DHL4ST4yXc86",
        "outputId": "c3e62dfe-bad4-4d00-b7ed-bc148089e948",
        "colab": {
          "base_uri": "https://localhost:8080/"
        }
      },
      "source": [
        "import re\n",
        "import tweepy\n",
        "from tweepy import OAuthHandler\n",
        "from textblob import TextBlob\n",
        "import csv\n",
        "from itertools import zip_longest\n",
        "import nltk\n",
        "nltk.download('stopwords')\n",
        "nltk.download('punkt')\n",
        "\n",
        "import plotly\n",
        "plotly.__version__\n",
        "import chart_studio\n",
        "import chart_studio.plotly as py\n",
        "from chart_studio import tools\n",
        "import plotly.graph_objs as go\n",
        "import pandas as pd\n",
        "\n",
        "from urllib import request \n",
        "from nltk.tokenize import word_tokenize\n",
        "from bs4 import BeautifulSoup\n",
        "from nltk.corpus import stopwords"
      ],
      "execution_count": 5,
      "outputs": [
        {
          "output_type": "stream",
          "text": [
            "[nltk_data] Downloading package stopwords to /root/nltk_data...\n",
            "[nltk_data]   Unzipping corpora/stopwords.zip.\n",
            "[nltk_data] Downloading package punkt to /root/nltk_data...\n",
            "[nltk_data]   Unzipping tokenizers/punkt.zip.\n"
          ],
          "name": "stdout"
        }
      ]
    },
    {
      "cell_type": "markdown",
      "metadata": {
        "id": "U3iCDcHxXvnD"
      },
      "source": [
        "### Variables"
      ]
    },
    {
      "cell_type": "code",
      "metadata": {
        "id": "zZD8ZmnYXqeG"
      },
      "source": [
        "city=[]\n",
        "latitude=[]\n",
        "longitude=[]"
      ],
      "execution_count": 33,
      "outputs": []
    },
    {
      "cell_type": "code",
      "metadata": {
        "id": "kw0cqS9kchc8"
      },
      "source": [
        "w = 0\n",
        "gf = []"
      ],
      "execution_count": 88,
      "outputs": []
    },
    {
      "cell_type": "markdown",
      "metadata": {
        "id": "sfSV5ppnR-7y"
      },
      "source": [
        "### Saved Locations"
      ]
    },
    {
      "cell_type": "code",
      "metadata": {
        "id": "OaJY42tWR-Zl"
      },
      "source": [
        "def location_backup():\n",
        "  city = [\"Montgomery\", \"Juneau\", \"Phoenix\", \"Little Rock\", \"Sacramento\", \n",
        "          \"Denver\", \"Hartford\", \"District of Columbia\", \"Dover\", \"Tallahassee\", \n",
        "          \"Atlanta\", \"Honolulu\", \"Boise\", \"Springfield\", \"Indianapolis\", \n",
        "          \"Des Moines\", \"Topeka\", \"Frankfort\", \"Baton Rouge\", \"Augusta\", \n",
        "          \"Annapolis\", \"Boston\", \"Lansing\", \"St. Paul\", \"Jackson\", \"Jefferson City\", \n",
        "          \"Helena\", \"Lincoln\", \"Carson City\", \"Concord\", \"Trenton\", \"Santa Fe\", \n",
        "          \"Albany\", \"Raleigh\", \"Bismarck\", \"Columbus\", \"Oklahoma City\", \"Salem\", \n",
        "          \"Harrisburg\", \"San Juan\", \"Providence\", \"Columbia\", \"Pierre\", \n",
        "          \"Nashville\", \"Austin\", \"Salt Lake City\", \"Montpelier\", \"Richmond\", \"Olympia\", \n",
        "          \"Charleston\", \"Madison\", \"Cheyenne\"]    \n",
        "  latitude = [32.362,58.302,33.448,33.448,34.736,38.555,39.739,41.767,38.913,39.162,30.452,\n",
        "              33.760,21.309,43.614,39.791,41.591,39.040,38.197,30.458,44.323,38.973,\n",
        "              42.235,42.733,44.950,32.320,38.573,46.596,40.810,39.161,43.220,40.221,\n",
        "              35.667,42.659,35.771,48.813,39.962,35.482,44.931,40.269,18.221,41.823,\n",
        "              34.000,44.368,36.165,30.266,40.754,44.266,37.540,47.042,38.349,43.074,41.145]\n",
        "  longitude = [-86.279,-134.419,-112.073,-92.331,-121.468,-104.984,-72.677,-77.013,\n",
        "               -75.526,-84.272,-84.390,-157.826,-116.237,-89.650,-86.147,-93.620,-95.69,\n",
        "               -84.863,-91.140,-69.765,-76.501,-71.027,-84.546,-93.094,-90.207,-92.189,\n",
        "               -112.027,-96.675,-119.753,-71.549,-74.756,-105.964,-73.781,-78.638,-100.779,\n",
        "               -83.000,-97.535,-123.029,-76.875,-66.590,-71.422,-81.035,-100.336,-86.784,\n",
        "               -97.750,-111.892,-72.571,-77.460,-122.893,-81.633,-89.384,-104.802]     \n",
        "  return city, latitude, longitude  "
      ],
      "execution_count": 35,
      "outputs": []
    },
    {
      "cell_type": "markdown",
      "metadata": {
        "id": "Oinw9oym3UO0"
      },
      "source": [
        "### Scraped Locations\n"
      ]
    },
    {
      "cell_type": "code",
      "metadata": {
        "id": "Hi1-gl7MnRQd"
      },
      "source": [
        "def location():\n",
        "  city = []\n",
        "  latitude = []\n",
        "  longitude = []\n",
        "  temp,temp1 = [],[]\n",
        "\n",
        "  url1 = \"https://people.sc.fsu.edu/~jburkardt/datasets/states/state_capitals_name.txt\"\n",
        "  html1 = request.urlopen(url1).read().decode('utf8')\n",
        "  temp = re.findall(\"\\\"([a-zA-Z\\s]+)\\\"\", html1)\n",
        "  for i in range(len(temp)):\n",
        "    if i==45:continue\n",
        "    city.append(temp[i])\n",
        "\n",
        "  url2 = \"https://people.sc.fsu.edu/~jburkardt/datasets/states/state_capitals_ll.txt\"\n",
        "  html2 = request.urlopen(url2).read().decode('utf8')\n",
        "  longitude = re.findall('(-\\d+\\.\\d{1,2})', html2)\n",
        "  temp = re.findall('(\\d+\\.\\d{1,2})', html2)\n",
        "  for i in range(len(temp)):\n",
        "    if i==90 or i==91:continue\n",
        "    temp1.append(temp[i])\n",
        "  for i in range(0, len(temp1),2):\n",
        "    latitude.append(temp1[i])\n",
        "  return city, latitude, longitude"
      ],
      "execution_count": 36,
      "outputs": []
    },
    {
      "cell_type": "markdown",
      "metadata": {
        "id": "TJOe4E_XYX4t"
      },
      "source": [
        "## Functions"
      ]
    },
    {
      "cell_type": "code",
      "metadata": {
        "id": "t0B7V56TtNu5"
      },
      "source": [
        "class TwitterClient(object):\n",
        "    def __init__(self):\n",
        "        consumer_key = '0SwavyP2HPKp5eXCCZDBj6UaA'\n",
        "        consumer_secret = 'RensiTFX0Ep9e1abuqISGHeeeEHdGVS1dMyfxzdZ4ZxLA9V2P7'\n",
        "        access_token = '409911991-SPWKqUdOTYYiKvOV52wGiTiGx7gFuWpNd8S6a9Pc'\n",
        "        access_token_secret = '2Mg0tt12J4aUlh9cxi1gRXhC2zHGR2icNbjpv005A2Z9l'\n",
        "        try:\n",
        "            self.auth = OAuthHandler(consumer_key, consumer_secret)\n",
        "            self.auth.set_access_token(access_token, access_token_secret)\n",
        "            self.api = tweepy.API(self.auth)\n",
        "        except:\n",
        "            print(\"Error: Authentication Failed\")"
      ],
      "execution_count": 37,
      "outputs": []
    },
    {
      "cell_type": "markdown",
      "metadata": {
        "id": "SMUWRwzjtYiv"
      },
      "source": [
        "### Cleaning"
      ]
    },
    {
      "cell_type": "code",
      "metadata": {
        "id": "4NUhFMx_teTo"
      },
      "source": [
        "class TwitterClient(TwitterClient, object):\n",
        "    def clean_tweet(self, tweet):\n",
        "        return ' '.join(re.sub(\"(@[A-Za-z0-9]+)|([^0-9A-Za-z \\t])|(\\w+:\\/\\/\\S+)\", \" \", tweet).split())"
      ],
      "execution_count": 38,
      "outputs": []
    },
    {
      "cell_type": "markdown",
      "metadata": {
        "id": "1l6W98-CtguF"
      },
      "source": [
        "### Sentiment Detection "
      ]
    },
    {
      "cell_type": "code",
      "metadata": {
        "id": "GU4SFKLstkWC"
      },
      "source": [
        "class TwitterClient(TwitterClient, object):\n",
        "    def get_tweet_sentiment(self, tweet):\n",
        "        analysis = TextBlob(self.clean_tweet(tweet))\n",
        "        if analysis.sentiment.polarity > 0:\n",
        "            return 'P'\n",
        "        elif analysis.sentiment.polarity == 0:\n",
        "            return 'Neutral'\n",
        "        else:\n",
        "            return 'N'"
      ],
      "execution_count": 39,
      "outputs": []
    },
    {
      "cell_type": "markdown",
      "metadata": {
        "id": "iqT5HGrSuKwT"
      },
      "source": [
        "### Get tweets\n"
      ]
    },
    {
      "cell_type": "code",
      "metadata": {
        "id": "zI7T3DV4X24z"
      },
      "source": [
        "class TwitterClient(TwitterClient, object):\n",
        "  def get(self, query, count, date):\n",
        "    tweets = [] \n",
        "    positive = []\n",
        "    negative = []\n",
        "    try:\n",
        "        try:\n",
        "          city, latitude, longitude = location()\n",
        "        except:\n",
        "          city, latitude, longitude = location_backup()\n",
        "        for i in range(52):\n",
        "            fetched_tweets = self.api.search(q = query, count = count, since_id = date, coordinates=[latitude[i], longitude[i], 25])\n",
        "            global w\n",
        "            for tweet in fetched_tweets:\n",
        "                parsed_tweet = {}\n",
        "                parsed_tweet['text'] = tweet.text\n",
        "                parsed_tweet['sentiment'] = self.get_tweet_sentiment(tweet.text)\n",
        "                if tweet.retweet_count > 0:\n",
        "                    if parsed_tweet not in tweets:\n",
        "                        tweets.append(parsed_tweet)\n",
        "                else:\n",
        "                    tweets.append(parsed_tweet)\n",
        "\n",
        "            ptweets = [t['text'] for t in tweets if t['sentiment'] == 'P']\n",
        "            x=(100*len(ptweets)/len(tweets))\n",
        "            gf.append(x)\n",
        "            positive.append(ptweets)\n",
        "            ntweets = [t['text'] for t in tweets if t['sentiment'] == 'N']\n",
        "            y=(100*len(ntweets)/len(tweets))\n",
        "            gf.append(y)\n",
        "            negative.append(ntweets)\n",
        "            z=(100*(len(tweets) - len(ntweets) - len(ptweets))/len(tweets))\n",
        "            gf.append(z)\n",
        "\n",
        "    except tweepy.TweepError as e:\n",
        "        print(\"Error : \" + str(e))\n",
        "    return positive, negative"
      ],
      "execution_count": 42,
      "outputs": []
    },
    {
      "cell_type": "markdown",
      "metadata": {
        "id": "FTOiq3lgSWCy"
      },
      "source": [
        "## Main"
      ]
    },
    {
      "cell_type": "code",
      "metadata": {
        "id": "nocALgWkeW4j"
      },
      "source": [
        "api1 = TwitterClient()\n",
        "p1,n1 = api1.get(query = 'Black Lives Matter', count = 300, date = '202005250000')\n",
        "p2,n2 = api1.get(query = 'George Floyd', count = 300, date = '202005250000')\n",
        "p3,n3 = api1.get(query = 'Racism', count = 300, date = '200805250000, 201605250000')"
      ],
      "execution_count": 89,
      "outputs": []
    },
    {
      "cell_type": "markdown",
      "metadata": {
        "id": "MH-ZS54aZwk5"
      },
      "source": [
        "## Processing After"
      ]
    },
    {
      "cell_type": "code",
      "metadata": {
        "id": "hG87opegCsMt",
        "outputId": "bba1e52d-4c3d-4ea3-c0a5-90b0b87e78e2",
        "colab": {
          "base_uri": "https://localhost:8080/"
        }
      },
      "source": [
        "len(gf)"
      ],
      "execution_count": 90,
      "outputs": [
        {
          "output_type": "execute_result",
          "data": {
            "text/plain": [
              "468"
            ]
          },
          "metadata": {
            "tags": []
          },
          "execution_count": 90
        }
      ]
    },
    {
      "cell_type": "code",
      "metadata": {
        "id": "Y63sR6dRZv4C"
      },
      "source": [
        "mkdir files"
      ],
      "execution_count": 45,
      "outputs": []
    },
    {
      "cell_type": "markdown",
      "metadata": {
        "id": "NJbrsrhkN3_0"
      },
      "source": [
        "### Recording Positives\n",
        "\n"
      ]
    },
    {
      "cell_type": "code",
      "metadata": {
        "id": "RsjD_1XDZ2Ub"
      },
      "source": [
        "pos=[] # BLM\n",
        "for i in range(0,156,3):\n",
        "    pos.append(gf[i])\n",
        "city, latitude, longitude = location()\n",
        "d = [city, latitude, longitude, pos]\n",
        "export_data = zip_longest(*d, fillvalue = '')\n",
        "with open('files/1.csv', 'w', encoding=\"ISO-8859-1\", newline='') as myfile:\n",
        "      wr = csv.writer(myfile)\n",
        "      wr.writerow((\"City\", \"Latitude\", \"Longitude\", \"Positive\"))\n",
        "      wr.writerows(export_data)\n",
        "myfile.close()"
      ],
      "execution_count": 91,
      "outputs": []
    },
    {
      "cell_type": "code",
      "metadata": {
        "id": "a_6IOU50Z3il"
      },
      "source": [
        "pos=[] # George Floyd\n",
        "for i in range(156,312,3):\n",
        "    pos.append(gf[i])\n",
        "city, latitude, longitude = location()\n",
        "d = [city, latitude, longitude, pos]\n",
        "export_data = zip_longest(*d, fillvalue = '')\n",
        "with open('files/3.csv', 'w', encoding=\"ISO-8859-1\", newline='') as myfile:\n",
        "      wr = csv.writer(myfile)\n",
        "      wr.writerow((\"City\", \"Latitude\", \"Longitude\", \"Positive\"))\n",
        "      wr.writerows(export_data)\n",
        "myfile.close()"
      ],
      "execution_count": 92,
      "outputs": []
    },
    {
      "cell_type": "code",
      "metadata": {
        "id": "Inf_VwwmZ5HI"
      },
      "source": [
        "pos=[] # Racism before George Floyd\n",
        "for i in range(312,468,3):\n",
        "    pos.append(gf[i])\n",
        "city, latitude, longitude = location()\n",
        "d = [city, latitude, longitude, pos]\n",
        "export_data = zip_longest(*d, fillvalue = '')\n",
        "with open('files/5.csv', 'w', encoding=\"ISO-8859-1\", newline='') as myfile:\n",
        "      wr = csv.writer(myfile)\n",
        "      wr.writerow((\"City\", \"Latitude\", \"Longitude\", \"Positive\"))\n",
        "      wr.writerows(export_data)\n",
        "myfile.close()"
      ],
      "execution_count": 93,
      "outputs": []
    },
    {
      "cell_type": "markdown",
      "metadata": {
        "id": "E9-jG_gzSk_z"
      },
      "source": [
        "### Recording Negatives"
      ]
    },
    {
      "cell_type": "code",
      "metadata": {
        "id": "RLA2zV08Z8Sc"
      },
      "source": [
        "neg=[] # BLM\n",
        "for i in range(1,156,3):\n",
        "    neg.append(gf[i])\n",
        "city, latitude, longitude = location()\n",
        "d = [city, latitude, longitude, neg]\n",
        "export_data = zip_longest(*d, fillvalue = '')\n",
        "with open('files/2.csv', 'w', encoding=\"ISO-8859-1\", newline='') as myfile:\n",
        "      wr = csv.writer(myfile)\n",
        "      wr.writerow((\"City\", \"Latitude\", \"Longitude\", \"Negative\"))\n",
        "      wr.writerows(export_data)\n",
        "myfile.close()"
      ],
      "execution_count": 94,
      "outputs": []
    },
    {
      "cell_type": "code",
      "metadata": {
        "id": "q2IkRZCmZ9-U"
      },
      "source": [
        "neg=[] # George Floyd\n",
        "for i in range(157,312,3):\n",
        "    neg.append(gf[i])\n",
        "city, latitude, longitude = location()\n",
        "d = [city, latitude, longitude, neg]\n",
        "export_data = zip_longest(*d, fillvalue = '')\n",
        "with open('files/4.csv', 'w', encoding=\"ISO-8859-1\", newline='') as myfile:\n",
        "      wr = csv.writer(myfile)\n",
        "      wr.writerow((\"City\", \"Latitude\", \"Longitude\", \"Negative\"))\n",
        "      wr.writerows(export_data)\n",
        "myfile.close()"
      ],
      "execution_count": 95,
      "outputs": []
    },
    {
      "cell_type": "code",
      "metadata": {
        "id": "kPe1iE3aZ_4T"
      },
      "source": [
        "neg=[] # Racism before George Floyd\n",
        "for i in range(313,468,3):\n",
        "    neg.append(gf[i])\n",
        "city, latitude, longitude = location()\n",
        "d = [city, latitude, longitude, neg]\n",
        "export_data = zip_longest(*d, fillvalue = '')\n",
        "with open('files/6.csv', 'w', encoding=\"ISO-8859-1\", newline='') as myfile:\n",
        "      wr = csv.writer(myfile)\n",
        "      wr.writerow((\"City\", \"Latitude\", \"Longitude\", \"Negative\"))\n",
        "      wr.writerows(export_data)\n",
        "myfile.close()"
      ],
      "execution_count": 96,
      "outputs": []
    },
    {
      "cell_type": "markdown",
      "metadata": {
        "id": "msF5RnOEahsC"
      },
      "source": [
        "### Black Lives Matter\n"
      ]
    },
    {
      "cell_type": "code",
      "metadata": {
        "id": "e26KHguQwPOh",
        "outputId": "cae01a39-d15b-428d-dc22-e966b42d2cf6",
        "colab": {
          "base_uri": "https://localhost:8080/",
          "height": 546
        }
      },
      "source": [
        "from chart_studio.tools import set_config_file\n",
        "from chart_studio.tools import set_credentials_file\n",
        "set_config_file(\n",
        "    plotly_domain=\"https://plotly.com\", \n",
        "    plotly_api_domain=\"https://api.plotly.com\",\n",
        ")\n",
        "set_credentials_file(\n",
        "    username='allenalvin333', \n",
        "    api_key='tfCNZwZe1gQmb3XgwaNe'\n",
        ")\n",
        "\n",
        "df = pd.read_csv('files/1.csv')\n",
        "df.head()\n",
        "\n",
        "df['text'] = df['City'] + '<br>Positive Sentiment : ' + (df['Positive']).astype(str)+'%'\n",
        "limits = [(0,100)]\n",
        "colors = [\"rgb(222,50,126)\"]\n",
        "cities = []\n",
        "scale = 5000\n",
        "\n",
        "for i in range(len(limits)):\n",
        "    lim = limits[i]\n",
        "    df_sub = df[lim[0]:lim[1]]\n",
        "    city = go.Scattergeo(\n",
        "        locationmode = 'ISO-3',\n",
        "        lon = df_sub['Longitude'],\n",
        "        lat = df_sub['Latitude'],\n",
        "        text = df_sub['text'],\n",
        "        marker = go.scattergeo.Marker(\n",
        "            size = df_sub['Positive']*50000/scale,\n",
        "            color = colors[i],\n",
        "            line = go.scattergeo.marker.Line(width=0.5, color='rgb(40,40,40)'),\n",
        "            sizemode = 'area'\n",
        "        ),\n",
        "        name = '{0} - {1}'.format(lim[0],lim[1]) )\n",
        "    cities.append(city)\n",
        "\n",
        "layout = go.Layout(\n",
        "        title = go.layout.Title(\n",
        "            text = 'City-wise Positive sentiments for Black Lives Matter'\n",
        "        ),\n",
        "        showlegend = True,\n",
        "        geo = go.layout.Geo(\n",
        "            scope = 'north america',\n",
        "            projection = go.layout.geo.Projection(\n",
        "                type='equirectangular'\n",
        "            ),\n",
        "            showland = True,\n",
        "            landcolor = 'rgb(0, 0, 0)',\n",
        "            subunitwidth=1,\n",
        "            countrywidth=1,\n",
        "            subunitcolor=\"rgb(255, 255, 255)\",\n",
        "            countrycolor=\"rgb(255, 255, 255)\"\n",
        "        )\n",
        "    )\n",
        "\n",
        "fig = go.Figure(data=cities, layout=layout)\n",
        "py.iplot(fig, filename='Black Lives Matter - Positive')"
      ],
      "execution_count": 97,
      "outputs": [
        {
          "output_type": "execute_result",
          "data": {
            "text/html": [
              "\n",
              "        <iframe\n",
              "            width=\"100%\"\n",
              "            height=\"525px\"\n",
              "            src=\"https://plotly.com/~allenalvin333/110.embed\"\n",
              "            frameborder=\"0\"\n",
              "            allowfullscreen\n",
              "        ></iframe>\n",
              "        "
            ],
            "text/plain": [
              "<IPython.lib.display.IFrame at 0x7f02c4e72f98>"
            ]
          },
          "metadata": {
            "tags": []
          },
          "execution_count": 97
        }
      ]
    },
    {
      "cell_type": "code",
      "metadata": {
        "id": "DF1l_jPtvu0l",
        "outputId": "4ada1281-ca7b-43db-e6d5-f626fdf7f0fb",
        "colab": {
          "base_uri": "https://localhost:8080/",
          "height": 546
        }
      },
      "source": [
        "from chart_studio.tools import set_config_file\n",
        "from chart_studio.tools import set_credentials_file\n",
        "set_config_file(\n",
        "    plotly_domain=\"https://plotly.com\", \n",
        "    plotly_api_domain=\"https://api.plotly.com\",\n",
        ")\n",
        "set_credentials_file(\n",
        "    username='allenalvin333', \n",
        "    api_key='tfCNZwZe1gQmb3XgwaNe'\n",
        ")\n",
        "\n",
        "df = pd.read_csv('files/2.csv')\n",
        "df.head()\n",
        "\n",
        "df['text'] = df['City'] + '<br>Negative Sentiment : ' + (df['Negative']).astype(str)+'%'\n",
        "limits = [(0,100)]\n",
        "colors = [\"rgb(52,225,233)\"]\n",
        "cities = []\n",
        "scale = 5000\n",
        "\n",
        "for i in range(len(limits)):\n",
        "    lim = limits[i]\n",
        "    df_sub = df[lim[0]:lim[1]]\n",
        "    city = go.Scattergeo(\n",
        "        locationmode = 'ISO-3',\n",
        "        lon = df_sub['Longitude'],\n",
        "        lat = df_sub['Latitude'],\n",
        "        text = df_sub['text'],\n",
        "        marker = go.scattergeo.Marker(\n",
        "            size = df_sub['Negative']*50000/scale,\n",
        "            color = colors[i],\n",
        "            line = go.scattergeo.marker.Line(\n",
        "                width=0.5, color='rgb(40,40,40)'\n",
        "            ),\n",
        "            sizemode = 'area'\n",
        "        ),\n",
        "        name = '{0} - {1}'.format(lim[0],lim[1]) )\n",
        "    cities.append(city)\n",
        "\n",
        "layout = go.Layout(\n",
        "        title = go.layout.Title(\n",
        "            text = 'City-wise Negative sentiments for Black Lives Matter'\n",
        "        ),\n",
        "        showlegend = True,\n",
        "        geo = go.layout.Geo(\n",
        "            scope = 'north america',\n",
        "            projection = go.layout.geo.Projection(\n",
        "                type='equirectangular'\n",
        "            ),\n",
        "            showland = True,\n",
        "            landcolor = 'rgb(0, 0, 0)',\n",
        "            subunitwidth=1,\n",
        "            countrywidth=1,\n",
        "            subunitcolor=\"rgb(255, 255, 255)\",\n",
        "            countrycolor=\"rgb(255, 255, 255)\"\n",
        "        )\n",
        "    )\n",
        "\n",
        "fig = go.Figure(data=cities, layout=layout)\n",
        "py.iplot(fig, filename='Black Lives Matter - Negative')"
      ],
      "execution_count": 98,
      "outputs": [
        {
          "output_type": "execute_result",
          "data": {
            "text/html": [
              "\n",
              "        <iframe\n",
              "            width=\"100%\"\n",
              "            height=\"525px\"\n",
              "            src=\"https://plotly.com/~allenalvin333/112.embed\"\n",
              "            frameborder=\"0\"\n",
              "            allowfullscreen\n",
              "        ></iframe>\n",
              "        "
            ],
            "text/plain": [
              "<IPython.lib.display.IFrame at 0x7f02bb6975c0>"
            ]
          },
          "metadata": {
            "tags": []
          },
          "execution_count": 98
        }
      ]
    },
    {
      "cell_type": "markdown",
      "metadata": {
        "id": "MXiESKfwTBuZ"
      },
      "source": [
        "### George Floyd\n"
      ]
    },
    {
      "cell_type": "code",
      "metadata": {
        "id": "9puDHEjaPCmx",
        "outputId": "8c0ca20b-38f4-4dff-d20d-a00595e45b9c",
        "colab": {
          "base_uri": "https://localhost:8080/",
          "height": 546
        }
      },
      "source": [
        "from chart_studio.tools import set_config_file\n",
        "from chart_studio.tools import set_credentials_file\n",
        "set_config_file(\n",
        "    plotly_domain=\"https://plotly.com\", \n",
        "    plotly_api_domain=\"https://api.plotly.com\",\n",
        ")\n",
        "set_credentials_file(\n",
        "    username='allenalvin333', \n",
        "    api_key='tfCNZwZe1gQmb3XgwaNe'\n",
        ")\n",
        "\n",
        "df = pd.read_csv('files/3.csv')\n",
        "df.head()\n",
        "\n",
        "df['text'] = df['City'] + '<br>Positive Sentiment : ' + (df['Positive']).astype(str)+'%'\n",
        "limits = [(0,100)]\n",
        "colors = [\"rgb(222,50,126)\"]\n",
        "cities = []\n",
        "scale = 5000\n",
        "\n",
        "for i in range(len(limits)):\n",
        "    lim = limits[i]\n",
        "    df_sub = df[lim[0]:lim[1]]\n",
        "    city = go.Scattergeo(\n",
        "        locationmode = 'ISO-3',\n",
        "        lon = df_sub['Longitude'],\n",
        "        lat = df_sub['Latitude'],\n",
        "        text = df_sub['text'],\n",
        "        marker = go.scattergeo.Marker(\n",
        "            size = df_sub['Positive']*50000/scale,\n",
        "            color = colors[i],\n",
        "            line = go.scattergeo.marker.Line(width=0.5, color='rgb(40,40,40)'),\n",
        "            sizemode = 'area'\n",
        "        ),\n",
        "        name = '{0} - {1}'.format(lim[0],lim[1]) )\n",
        "    cities.append(city)\n",
        "\n",
        "layout = go.Layout(\n",
        "        title = go.layout.Title(\n",
        "            text = 'City-wise Positive sentiments for George Floyd'\n",
        "        ),\n",
        "        showlegend = True,\n",
        "        geo = go.layout.Geo(\n",
        "            scope = 'north america',\n",
        "            projection = go.layout.geo.Projection(\n",
        "                type='equirectangular'\n",
        "            ),\n",
        "            showland = True,\n",
        "            landcolor = 'rgb(0, 0, 0)',\n",
        "            subunitwidth=1,\n",
        "            countrywidth=1,\n",
        "            subunitcolor=\"rgb(255, 255, 255)\",\n",
        "            countrycolor=\"rgb(255, 255, 255)\"\n",
        "        )\n",
        "    )\n",
        "\n",
        "fig = go.Figure(data=cities, layout=layout)\n",
        "py.iplot(fig, filename='George Floyd - Positive')"
      ],
      "execution_count": 99,
      "outputs": [
        {
          "output_type": "execute_result",
          "data": {
            "text/html": [
              "\n",
              "        <iframe\n",
              "            width=\"100%\"\n",
              "            height=\"525px\"\n",
              "            src=\"https://plotly.com/~allenalvin333/114.embed\"\n",
              "            frameborder=\"0\"\n",
              "            allowfullscreen\n",
              "        ></iframe>\n",
              "        "
            ],
            "text/plain": [
              "<IPython.lib.display.IFrame at 0x7f02e8117668>"
            ]
          },
          "metadata": {
            "tags": []
          },
          "execution_count": 99
        }
      ]
    },
    {
      "cell_type": "code",
      "metadata": {
        "id": "5B_Wt6wlQ0Ur",
        "outputId": "483b1b9d-5c35-4945-ddfc-a4d453be811e",
        "colab": {
          "base_uri": "https://localhost:8080/",
          "height": 546
        }
      },
      "source": [
        "from chart_studio.tools import set_config_file\n",
        "from chart_studio.tools import set_credentials_file\n",
        "set_config_file(\n",
        "    plotly_domain=\"https://plotly.com\", \n",
        "    plotly_api_domain=\"https://api.plotly.com\",\n",
        ")\n",
        "set_credentials_file(\n",
        "    username='allenalvin333', \n",
        "    api_key='tfCNZwZe1gQmb3XgwaNe'\n",
        ")\n",
        "\n",
        "df = pd.read_csv('files/4.csv')\n",
        "df.head()\n",
        "\n",
        "df['text'] = df['City'] + '<br>Negative Sentiment : ' + (df['Negative']).astype(str)+'%'\n",
        "limits = [(0,100)]\n",
        "colors = [\"rgb(52,225,233)\"]\n",
        "cities = []\n",
        "scale = 5000\n",
        "\n",
        "for i in range(len(limits)):\n",
        "    lim = limits[i]\n",
        "    df_sub = df[lim[0]:lim[1]]\n",
        "    city = go.Scattergeo(\n",
        "        locationmode = 'ISO-3',\n",
        "        lon = df_sub['Longitude'],\n",
        "        lat = df_sub['Latitude'],\n",
        "        text = df_sub['text'],\n",
        "        marker = go.scattergeo.Marker(\n",
        "            size = df_sub['Negative']*50000/scale,\n",
        "            color = colors[i],\n",
        "            line = go.scattergeo.marker.Line(\n",
        "                width=0.5, color='rgb(40,40,40)'\n",
        "            ),\n",
        "            sizemode = 'area'\n",
        "        ),\n",
        "        name = '{0} - {1}'.format(lim[0],lim[1]) )\n",
        "    cities.append(city)\n",
        "\n",
        "layout = go.Layout(\n",
        "        title = go.layout.Title(\n",
        "            text = 'City-wise Negative sentiments for George Floyd'\n",
        "        ),\n",
        "        showlegend = True,\n",
        "        geo = go.layout.Geo(\n",
        "            scope = 'north america',\n",
        "            projection = go.layout.geo.Projection(\n",
        "                type='equirectangular'\n",
        "            ),\n",
        "            showland = True,\n",
        "            landcolor = 'rgb(0, 0, 0)',\n",
        "            subunitwidth=1,\n",
        "            countrywidth=1,\n",
        "            subunitcolor=\"rgb(255, 255, 255)\",\n",
        "            countrycolor=\"rgb(255, 255, 255)\"\n",
        "        )\n",
        "    )\n",
        "\n",
        "fig = go.Figure(data=cities, layout=layout)\n",
        "py.iplot(fig, filename='George Floyd - Negative')"
      ],
      "execution_count": 100,
      "outputs": [
        {
          "output_type": "execute_result",
          "data": {
            "text/html": [
              "\n",
              "        <iframe\n",
              "            width=\"100%\"\n",
              "            height=\"525px\"\n",
              "            src=\"https://plotly.com/~allenalvin333/116.embed\"\n",
              "            frameborder=\"0\"\n",
              "            allowfullscreen\n",
              "        ></iframe>\n",
              "        "
            ],
            "text/plain": [
              "<IPython.lib.display.IFrame at 0x7f02ba4279e8>"
            ]
          },
          "metadata": {
            "tags": []
          },
          "execution_count": 100
        }
      ]
    },
    {
      "cell_type": "markdown",
      "metadata": {
        "id": "W2xXf8YXaQb7"
      },
      "source": [
        "## Racism before"
      ]
    },
    {
      "cell_type": "code",
      "metadata": {
        "id": "MVpUz_LWaSrI",
        "outputId": "27d7540d-23ba-4fc5-9086-50e7eb9c1bf6",
        "colab": {
          "base_uri": "https://localhost:8080/",
          "height": 546
        }
      },
      "source": [
        "from chart_studio.tools import set_config_file\n",
        "from chart_studio.tools import set_credentials_file\n",
        "set_config_file(\n",
        "    plotly_domain=\"https://plotly.com\", \n",
        "    plotly_api_domain=\"https://api.plotly.com\",\n",
        ")\n",
        "set_credentials_file(\n",
        "    username='allenalvin333', \n",
        "    api_key='tfCNZwZe1gQmb3XgwaNe'\n",
        ")\n",
        "\n",
        "df = pd.read_csv('files/5.csv')\n",
        "df.head()\n",
        "\n",
        "df['text'] = df['City'] + '<br>Positive Sentiment : ' + (df['Positive']).astype(str)+'%'\n",
        "limits = [(0,100)]\n",
        "colors = [\"rgb(222,50,126)\"]\n",
        "cities = []\n",
        "scale = 5000\n",
        "\n",
        "for i in range(len(limits)):\n",
        "    lim = limits[i]\n",
        "    df_sub = df[lim[0]:lim[1]]\n",
        "    city = go.Scattergeo(\n",
        "        locationmode = 'ISO-3',\n",
        "        lon = df_sub['Longitude'],\n",
        "        lat = df_sub['Latitude'],\n",
        "        text = df_sub['text'],\n",
        "        marker = go.scattergeo.Marker(\n",
        "            size = df_sub['Positive']*50000/scale,\n",
        "            color = colors[i],\n",
        "            line = go.scattergeo.marker.Line(width=0.5, color='rgb(40,40,40)'),\n",
        "            sizemode = 'area'\n",
        "        ),\n",
        "        name = '{0} - {1}'.format(lim[0],lim[1]) )\n",
        "    cities.append(city)\n",
        "\n",
        "layout = go.Layout(\n",
        "        title = go.layout.Title(\n",
        "            text = 'City-wise Positive sentiments for Racism'\n",
        "        ),\n",
        "        showlegend = True,\n",
        "        geo = go.layout.Geo(\n",
        "            scope = 'north america',\n",
        "            projection = go.layout.geo.Projection(\n",
        "                type='equirectangular'\n",
        "            ),\n",
        "            showland = True,\n",
        "            landcolor = 'rgb(0, 0, 0)',\n",
        "            subunitwidth=1,\n",
        "            countrywidth=1,\n",
        "            subunitcolor=\"rgb(255, 255, 255)\",\n",
        "            countrycolor=\"rgb(255, 255, 255)\"\n",
        "        )\n",
        "    )\n",
        "\n",
        "fig = go.Figure(data=cities, layout=layout)\n",
        "py.iplot(fig, filename='Racism - Positive')"
      ],
      "execution_count": 102,
      "outputs": [
        {
          "output_type": "execute_result",
          "data": {
            "text/html": [
              "\n",
              "        <iframe\n",
              "            width=\"100%\"\n",
              "            height=\"525px\"\n",
              "            src=\"https://plotly.com/~allenalvin333/118.embed\"\n",
              "            frameborder=\"0\"\n",
              "            allowfullscreen\n",
              "        ></iframe>\n",
              "        "
            ],
            "text/plain": [
              "<IPython.lib.display.IFrame at 0x7f02bba66f98>"
            ]
          },
          "metadata": {
            "tags": []
          },
          "execution_count": 102
        }
      ]
    },
    {
      "cell_type": "code",
      "metadata": {
        "id": "Cs3mueuvdASq",
        "outputId": "ec13a39b-237e-4dec-de88-c7e717ceae1c",
        "colab": {
          "base_uri": "https://localhost:8080/"
        }
      },
      "source": [
        "for s in p3[0]:\n",
        "  print(s)\n",
        "  # print(re.sub(\"(RT)|(@[A-Za-z0-9]+)|([^0-9A-Za-z \\t])|(\\w+:\\/\\/\\S+)\", \" \", s))"
      ],
      "execution_count": 101,
      "outputs": [
        {
          "output_type": "stream",
          "text": [
            "@ChloeAd35418085 @EdanClay Racism is ALIVE AND WELL IN AMERICA AND IT'S NOT GOING ANYWHERE. I THOUGHT POSSIBLY PROG… https://t.co/gBQrSP1w3g\n",
            "RT @snitchery: look at that white youth vote. now stop peddling the myth that racism is going to magically disappear and die out generation…\n",
            "Don’t compare the BLM protests and riots to what’s going on at the moment lol BLM riots were over injustice and sys… https://t.co/GPlp2t31nr\n",
            "RT @moodyredhead: @AndyVonasch Good first step: stop assuming it's racism.\n",
            "\n",
            "Good second step: actually ASK instead of making assumptions. A…\n",
            "RT @mgyikes: So if someone voted for trump based on their own personal belief in racism, homophobia, etc. you love them? 🤡\n",
            "@HalenHg As much as I like it here in SA, it's kind of ignorant to say that bc we're diverse, racism is hardly expe… https://t.co/3rGMWbygG1\n",
            "yall should watch anne with an e, the amount of racism and every other issues in that series are fkin triggering me it’s an excellent series\n",
            "RT @emrazz: Still wild that half this country really believes that someday, they too will be rich enough to qualify for the top tax bracket…\n",
            "Anti-Racism in the Workplace: Join the Course for Free https://t.co/AQuPokOsON\n",
            "RT @serge_fils: Its one thing to separate the art from the artist but... y’all really tryna separate the racism, homophobia, transphobia, s…\n",
            "@axelfrog2 This marios real reaction to racism and no one can tell me otherwise\n",
            "RT @mattyglesias: At a certain point one would think we have to admit that there is simply a large swathe of the population, including a su…\n",
            "@nytimes Americans trying to abolish their own democracy. Wo would have ever thought that antidemocratic behavior,… https://t.co/iUOY4mBtyM\n",
            "RT @bethanyshondark: I am loving all the white people blaming Trump’s great numbers on the racism of his voters when the only demographic t…\n",
            "@KatyTurNBC PLEASE STOP ASKING BLACK PANELISTS ON HOW DEMS NEED TO WIN BACK TRUMP VOTERS. THEY'RE WITH TRUMP BECAUS… https://t.co/sMkLL7bq68\n",
            "RT @sebroche: I guess half of Americans are in love with racism\n",
            "#Election2020\n",
            "RT @ehanford: There's the election. And then there's this most critical, enduring issue highlighted in @thegrade_ by @ColetteEdReform. \"As…\n",
            "AND ALSO: there’s internalized racism towards your own people if you have TOO much of an accent, and simultaneous j… https://t.co/t29YsSk47P\n",
            "One step to better #indigenous #health outcomes in AU is to Indigenize and #decolonize the medical curriculum. Dr T… https://t.co/yGNBFRZiSH\n",
            "@razinkhan27 @truejtswag @charliekirk11 Some of us don't measure success in life based on Twitter followers.  If we… https://t.co/dn2O2yNB19\n",
            "@joshuadanha @BiancavanWyk16 PLEASE give me an example of his racism. \n",
            "Wow, that card is used a lot.\n",
            "RT @ReaganGomez: People love saying all Black Americans do is talk about race. Focus on race. Yes, because we have been here for 400 years.…\n",
            "RT @USANewsAgency: This could be the most powerful 3 minutes you have seen in a long time.\n",
            "\n",
            "If you are struggling with how millions of citi…\n",
            "@neek1011 @Yukk_Mouff @HassanMokibur Yeah the racism in India against black people is huge. House owners don't even… https://t.co/bqF2qlQ7Y9\n",
            "I think it’s more of an open question if we can find common ground. If tribal politics includes a large group that… https://t.co/dv30bk7xQV\n"
          ],
          "name": "stdout"
        }
      ]
    },
    {
      "cell_type": "code",
      "metadata": {
        "id": "jn7tE7coaUQc",
        "outputId": "fa6e153c-a7cf-4f0f-8c66-b84bcbb12638",
        "colab": {
          "base_uri": "https://localhost:8080/",
          "height": 546
        }
      },
      "source": [
        "from chart_studio.tools import set_config_file\n",
        "from chart_studio.tools import set_credentials_file\n",
        "set_config_file(\n",
        "    plotly_domain=\"https://plotly.com\", \n",
        "    plotly_api_domain=\"https://api.plotly.com\",\n",
        ")\n",
        "set_credentials_file(\n",
        "    username='allenalvin333', \n",
        "    api_key='tfCNZwZe1gQmb3XgwaNe'\n",
        ")\n",
        "\n",
        "df = pd.read_csv('files/6.csv')\n",
        "df.head()\n",
        "\n",
        "df['text'] = df['City'] + '<br>Negative Sentiment : ' + (df['Negative']).astype(str)+'%'\n",
        "limits = [(0,100)]\n",
        "colors = [\"rgb(52,225,233)\"]\n",
        "cities = []\n",
        "scale = 5000\n",
        "\n",
        "for i in range(len(limits)):\n",
        "    lim = limits[i]\n",
        "    df_sub = df[lim[0]:lim[1]]\n",
        "    city = go.Scattergeo(\n",
        "        locationmode = 'ISO-3',\n",
        "        lon = df_sub['Longitude'],\n",
        "        lat = df_sub['Latitude'],\n",
        "        text = df_sub['text'],\n",
        "        marker = go.scattergeo.Marker(\n",
        "            size = df_sub['Negative']*50000/scale,\n",
        "            color = colors[i],\n",
        "            line = go.scattergeo.marker.Line(\n",
        "                width=0.5, color='rgb(40,40,40)'\n",
        "            ),\n",
        "            sizemode = 'area'\n",
        "        ),\n",
        "        name = '{0} - {1}'.format(lim[0],lim[1]) )\n",
        "    cities.append(city)\n",
        "\n",
        "layout = go.Layout(\n",
        "        title = go.layout.Title(\n",
        "            text = 'City-wise Negative sentiments for Racism'\n",
        "        ),\n",
        "        showlegend = True,\n",
        "        geo = go.layout.Geo(\n",
        "            scope = 'north america',\n",
        "            projection = go.layout.geo.Projection(\n",
        "                type='equirectangular'\n",
        "            ),\n",
        "            showland = True,\n",
        "            landcolor = 'rgb(0, 0, 0)',\n",
        "            subunitwidth=1,\n",
        "            countrywidth=1,\n",
        "            subunitcolor=\"rgb(255, 255, 255)\",\n",
        "            countrycolor=\"rgb(255, 255, 255)\"\n",
        "        )\n",
        "    )\n",
        "\n",
        "fig = go.Figure(data=cities, layout=layout)\n",
        "py.iplot(fig, filename='Racism - Negative')"
      ],
      "execution_count": 104,
      "outputs": [
        {
          "output_type": "execute_result",
          "data": {
            "text/html": [
              "\n",
              "        <iframe\n",
              "            width=\"100%\"\n",
              "            height=\"525px\"\n",
              "            src=\"https://plotly.com/~allenalvin333/120.embed\"\n",
              "            frameborder=\"0\"\n",
              "            allowfullscreen\n",
              "        ></iframe>\n",
              "        "
            ],
            "text/plain": [
              "<IPython.lib.display.IFrame at 0x7f02ba3c63c8>"
            ]
          },
          "metadata": {
            "tags": []
          },
          "execution_count": 104
        }
      ]
    },
    {
      "cell_type": "code",
      "metadata": {
        "id": "irernzZ7dHl0",
        "outputId": "2a38f842-a6f2-4af0-b680-af83cb188009",
        "colab": {
          "base_uri": "https://localhost:8080/"
        }
      },
      "source": [
        "for s in n3[0]:\n",
        "  print(s)\n",
        "  # print(re.sub(\"(RT)|(@[A-Za-z0-9]+)|([^0-9A-Za-z \\t])|(\\w+:\\/\\/\\S+)\", \" \", s))"
      ],
      "execution_count": 103,
      "outputs": [
        {
          "output_type": "stream",
          "text": [
            "RT @TheAmitie: Ben Franklin, inventor of racism, died on his chamber pot. His last words were: I hate Philadelphia and hope no one thinks I…\n",
            "@CountDankulaTV Not the same but racism/hate speech is a crime. I find it odd that you’d stick up for either. Both… https://t.co/XqoDIvbg1e\n",
            "RT @coreylovesyou2: if u voted for trump, block me now. i dont want anything to do with u, i have zero respect for u and i mean this in the…\n",
            "RT @Drebae_: I hate the fact that they water down racism in the 1900s to bus seats &amp; separate water fountains. They was really kiIIIing us…\n",
            "The same people who need to hear the word kaffir to recognize racism? They don’t even know politics, just narrow in… https://t.co/hdxllP2kXZ\n",
            "RT @spideygcv: Remember to call out racism whenever you see it. In real life, online, everywhere. It is never okay.\n",
            "RT @kashanacauley: Gotta say I’m shocked that an election system developed by slaveowners is so bad at dealing with racism.\n",
            "RT @EdanClay: I knew racism still existed in America... I didn't realize it was 40 to 50%! That is some fucked up shit! I must surround mys…\n",
            "@ProfLizKelly It brought a tear to my eye. He’s right. The ugliness of racism has not been tackled enough here or the US.\n",
            "“...he expanded his base among white voters. Trump continues to flourish in the intersection of greed, selfishness and racism.”\n",
            "@tvtenterhooks @StephenOld @Daily_Express Sadly the source of hate bolstering output hasn't gone away, despite the… https://t.co/38F89BtWWJ\n",
            "RT @danielleprescod: shoutout to all the girls who spent the month of june \"reading, listening and learning\" to figure out that they, in fa…\n",
            "RT @antihoa: every four years we have to remind libs that the south has the highest concentration of black people in the country and they’l…\n",
            "@PatriciaMazzei Racism and ignorance isn’t limited to only one race or culture.\n",
            "Latino is not a race nor are we a monolith. There are white Latinos like there are brown and black Latinos. And yes… https://t.co/OeFMqS02QV\n",
            "RT @D_Henderson919: wtf was the deal?? they’re both racist..except one has actually manifested his racism into actual law before..it ain’t…\n",
            "RT @Loeybug: It’s so... insane that the group protesting in Arizona, mostly composed of white Trump supporters with guns, aren’t being pepp…\n",
            "RT @BerniceKing: This nation has some difficult days ahead. We can’t lie to ourselves about that. Racism and white supremacy won’t go quiet…\n",
            "RT @Femi_Sorry: Do you know what the worst thing about that poppy debate was? Follow me on this.\n",
            "\n",
            "It's BECAUSE racism is so mainstream that…\n",
            "RT @ZackBornstein: Can't wait for Biden to become president so we can start dealing with COVID 10 months too late, global warming 20 years…\n",
            "Stop with the economic anxiety. It’s fucking racism.\n",
            "Period. Only racism.\n",
            "@BotChainPuller @jacobkelly7 @alexnunns That Israeli secret police taught the kneck kneeling techniques to the US p… https://t.co/fcvBgCKLNy\n",
            "@itsJeffTiedrich @Booknutter1 Just a reminder of what’s at stake. Has racism and selfishness, trumped 233,000 dead… https://t.co/LqLKplKsRk\n",
            "RT @koslen_bambi: #USElectionResults\n",
            "Trump’s Presidency ripped off the thin facade,completely exposing the dark,cruel,systemic inequality i…\n",
            "RT @VINETTRIA: racism is delusional supremacy and it’s taught. there’s no way you can look at someone and say \"i hate you because your brow…\n",
            "RT @JimMFelton: @sullydish On the one hand racism is bad, but on the other I find opposing racism is annoying, so I voted for the racist. I…\n",
            "RT @DrOakley1689: Black on black racism.  Now acceptable on MSNBC.  Well, it has been, for a long time.\n",
            "@ChloeAd35418085 @EdanClay I too grew up in a time when racism was common &amp; while I knew it still existed I didn't… https://t.co/Kt573BGrpv\n",
            "RT @jujufleming1: @EBraeden AND they're shouting that Fox News sucks!! Oh the irony of it all.\n",
            "It's clear Cult45ers didn't care about \"riot…\n",
            "RT @koslen_bambi: 🌜GOODNIGHT #2\n",
            "Trump’s Presidency ripped off the thin facade,completely exposing the dark,cruel,systemic inequality in our…\n",
            "RT @BLAINESHA1RGEL: since we're talking ab racism towards asians, i'm going to mention how has been so extremely normalized. when people ma…\n",
            "RT @neontaster: Calling half of voters fervent endorsers of incompetence, rage, authoritarianism, and racism might have something to do wit…\n"
          ],
          "name": "stdout"
        }
      ]
    },
    {
      "cell_type": "markdown",
      "metadata": {
        "id": "sA4oVGRIaWgB"
      },
      "source": [
        "## Save Data"
      ]
    },
    {
      "cell_type": "code",
      "metadata": {
        "id": "Oq5dj-C6aYHH"
      },
      "source": [
        "!cp -r /content/files /content/gdrive/My\\ Drive/Academic/NLP/"
      ],
      "execution_count": 105,
      "outputs": []
    }
  ]
}